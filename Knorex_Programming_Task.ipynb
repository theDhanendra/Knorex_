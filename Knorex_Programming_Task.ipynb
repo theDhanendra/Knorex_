{
 "cells": [
  {
   "cell_type": "markdown",
   "id": "ac564a25-758d-4eea-b63c-0a510b6c9997",
   "metadata": {},
   "source": [
    "# Knorex Programming Test"
   ]
  },
  {
   "cell_type": "markdown",
   "id": "151338e8-68c1-466a-8979-12eb7c659bd2",
   "metadata": {},
   "source": [
    "## Problem 1\n",
    " You are given 2 columns\n",
    " 1. Column (A) STATES contains a sorted list of state names mapped to their respective phone prefixes.\n",
    " 2. Column (B) PHONE_NOS contains a list of unsorted phone numbers."
   ]
  },
  {
   "cell_type": "code",
   "execution_count": 3,
   "id": "f71d643e-d5d7-40f3-bd88-0efe25a2a9bc",
   "metadata": {},
   "outputs": [],
   "source": [
    "states = [ \"Alabama,205\", \"Alaska,907\", \"Arizona,480\", \"Arkansas,479\", \"California,209\", \"Colorado,303\",\n",
    "          \"Connecticut,203\", \"Delaware,302\", \"District of Columbia,202\", \"Florida,239\" ]"
   ]
  },
  {
   "cell_type": "code",
   "execution_count": 4,
   "id": "50f85d0e-eecf-4034-8f82-e28aabf51b3c",
   "metadata": {},
   "outputs": [],
   "source": [
    "state_prefix_map = {}\n",
    "for state_entry in states:\n",
    "    state, prefix = state_entry.split(',')\n",
    "    state_prefix_map[prefix] = state"
   ]
  },
  {
   "cell_type": "code",
   "execution_count": 5,
   "id": "cc45a541-7b79-4a56-9154-e0cce6454de5",
   "metadata": {},
   "outputs": [],
   "source": [
    "phone_numbers = [ \"205-187-3946\", \"205-255-6983\", \"479-172-2272\", \"239-911-4469\", \"205-938-8632\", \"480-364-9536\",\n",
    "                 \"205-662-8389\", \"479-742-6763\", \"479-896-3819\", \"480-468-6769\", \"907-314-9167\", \"907-374-9162\",\n",
    "                 \"479-142-6152\", \"907-146-9975\", \"479-117-4115\", \"907-683-7439\", \"239-499-7963\", \"239-486-9335\",\n",
    "                 \"480-132-7865\", \"907-316-9144\" ]"
   ]
  },
  {
   "cell_type": "code",
   "execution_count": 6,
   "id": "86dc38c2-4751-4798-aed5-f7d02b3ab85d",
   "metadata": {},
   "outputs": [],
   "source": [
    "sorted_phone_numbers = sorted( phone_numbers,\n",
    "                              key=lambda number: state_prefix_map[number.split('-')[0]]\n",
    "                             )"
   ]
  },
  {
   "cell_type": "code",
   "execution_count": 13,
   "id": "333166e0-6582-4d20-8934-5a6d13455c74",
   "metadata": {},
   "outputs": [
    {
     "name": "stdout",
     "output_type": "stream",
     "text": [
      "Sorted Phone Numbers with State Names:\n",
      "Alabama: 205-187-3946\n",
      "Alabama: 205-255-6983\n",
      "Alabama: 205-938-8632\n",
      "Alabama: 205-662-8389\n",
      "Alaska: 907-314-9167\n",
      "Alaska: 907-374-9162\n",
      "Alaska: 907-146-9975\n",
      "Alaska: 907-683-7439\n",
      "Alaska: 907-316-9144\n",
      "Arizona: 480-364-9536\n",
      "Arizona: 480-468-6769\n",
      "Arizona: 480-132-7865\n",
      "Arkansas: 479-172-2272\n",
      "Arkansas: 479-742-6763\n",
      "Arkansas: 479-896-3819\n",
      "Arkansas: 479-142-6152\n",
      "Arkansas: 479-117-4115\n",
      "Florida: 239-911-4469\n",
      "Florida: 239-499-7963\n",
      "Florida: 239-486-9335\n"
     ]
    }
   ],
   "source": [
    "print(\"Sorted Phone Numbers with State Names:\")\n",
    "for number in sorted_phone_numbers:\n",
    "    prefix = number.split('-')[0]\n",
    "    state_name = state_prefix_map[prefix]\n",
    "    print(f\"{state_name}: {number}\")"
   ]
  },
  {
   "cell_type": "code",
   "execution_count": null,
   "id": "311c399f-888c-4860-9bd1-a345a3a3f7da",
   "metadata": {},
   "outputs": [],
   "source": []
  },
  {
   "cell_type": "markdown",
   "id": "9195a629-9937-46de-bd74-0d9f77884f70",
   "metadata": {},
   "source": [
    "## Problem 2\n",
    " Write a 20-character random generator that uses the least resource (file size, memory, CPU). The valid characters allowed in the key string are a-z, A-Z and 0-9.\n",
    " e.g. 83FEdmhjKla4WiYd6uem"
   ]
  },
  {
   "cell_type": "code",
   "execution_count": 16,
   "id": "e4e11ffe-61f6-4c9e-a30d-2ed36e25a4e7",
   "metadata": {},
   "outputs": [],
   "source": [
    "import string\n",
    "import secrets"
   ]
  },
  {
   "cell_type": "code",
   "execution_count": 19,
   "id": "db943668-e82c-4dce-95d1-9bd36f756b0f",
   "metadata": {},
   "outputs": [],
   "source": [
    "def generate_random_string(length=20):\n",
    "    valid_characters = string.ascii_letters + string.digits  # a-z, A-Z, 0-9\n",
    "    return ''.join(secrets.choice(valid_characters) for _ in range(length))"
   ]
  },
  {
   "cell_type": "code",
   "execution_count": 20,
   "id": "b56b40d7-ad85-4274-aec1-18446fa0d0cc",
   "metadata": {},
   "outputs": [
    {
     "name": "stdout",
     "output_type": "stream",
     "text": [
      "O6bLuC6QLpzkmtKainZa\n"
     ]
    }
   ],
   "source": [
    "random_key = generate_random_string()\n",
    "print(random_key)"
   ]
  },
  {
   "cell_type": "code",
   "execution_count": null,
   "id": "b3fd64e1-8461-47e2-8710-d96a4e0d3f3e",
   "metadata": {},
   "outputs": [],
   "source": []
  },
  {
   "cell_type": "code",
   "execution_count": null,
   "id": "e275689f-7d2e-4fcc-8554-8d19e3cba2af",
   "metadata": {},
   "outputs": [],
   "source": []
  },
  {
   "cell_type": "code",
   "execution_count": null,
   "id": "19f096a5-d6fb-4935-903c-07b5431e348d",
   "metadata": {},
   "outputs": [],
   "source": []
  }
 ],
 "metadata": {
  "kernelspec": {
   "display_name": "Python 3 (ipykernel)",
   "language": "python",
   "name": "python3"
  },
  "language_info": {
   "codemirror_mode": {
    "name": "ipython",
    "version": 3
   },
   "file_extension": ".py",
   "mimetype": "text/x-python",
   "name": "python",
   "nbconvert_exporter": "python",
   "pygments_lexer": "ipython3",
   "version": "3.12.4"
  }
 },
 "nbformat": 4,
 "nbformat_minor": 5
}
